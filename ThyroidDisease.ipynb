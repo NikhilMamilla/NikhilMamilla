{
  "nbformat": 4,
  "nbformat_minor": 0,
  "metadata": {
    "colab": {
      "provenance": [],
      "authorship_tag": "ABX9TyMquIsyMIFT0ZohLGhYfnxU",
      "include_colab_link": true
    },
    "kernelspec": {
      "name": "python3",
      "display_name": "Python 3"
    },
    "language_info": {
      "name": "python"
    }
  },
  "cells": [
    {
      "cell_type": "markdown",
      "metadata": {
        "id": "view-in-github",
        "colab_type": "text"
      },
      "source": [
        "<a href=\"https://colab.research.google.com/github/NikhilMamilla/NikhilMamilla/blob/main/ThyroidDisease.ipynb\" target=\"_parent\"><img src=\"https://colab.research.google.com/assets/colab-badge.svg\" alt=\"Open In Colab\"/></a>"
      ]
    },
    {
      "cell_type": "markdown",
      "source": [
        "***THYROID DISEASE DATA***"
      ],
      "metadata": {
        "id": "5K02xW1saMwP"
      }
    },
    {
      "cell_type": "code",
      "source": [
        "# Importing necessary libraries\n",
        "import numpy as np\n",
        "import pandas as pd\n",
        "import matplotlib.pyplot as plt\n",
        "import seaborn as sns\n",
        "from sklearn.model_selection import train_test_split\n",
        "from sklearn.preprocessing import LabelEncoder\n",
        "from sklearn.linear_model import LogisticRegression\n",
        "from sklearn.tree import DecisionTreeClassifier\n",
        "from sklearn.metrics import accuracy_score, classification_report\n",
        "from sklearn.svm import SVC"
      ],
      "metadata": {
        "id": "6eAYQA-ahKXa"
      },
      "execution_count": 4,
      "outputs": []
    },
    {
      "cell_type": "code",
      "source": [
        "# Suppressing warnings\n",
        "import warnings\n",
        "warnings.filterwarnings('ignore')"
      ],
      "metadata": {
        "id": "T_ca40DAhKQv"
      },
      "execution_count": 5,
      "outputs": []
    },
    {
      "cell_type": "code",
      "source": [
        "# Importing the dataset\n",
        "df = pd.read_csv('Thyroid_Diff.csv')"
      ],
      "metadata": {
        "id": "ZIwEgaawhKKt"
      },
      "execution_count": 6,
      "outputs": []
    },
    {
      "cell_type": "code",
      "source": [
        "# Displaying the first few rows of the DataFrame\n",
        "print(\"First few rows of the DataFrame:\")\n",
        "print(df.head())"
      ],
      "metadata": {
        "colab": {
          "base_uri": "https://localhost:8080/"
        },
        "id": "Rb0L71eXhKFA",
        "outputId": "f251b35a-42bc-4211-f0ef-a8f888a2ce24"
      },
      "execution_count": 7,
      "outputs": [
        {
          "output_type": "stream",
          "name": "stdout",
          "text": [
            "First few rows of the DataFrame:\n",
            "   Age Gender Smoking Hx Smoking Hx Radiothreapy Thyroid Function  \\\n",
            "0   27      F      No         No              No        Euthyroid   \n",
            "1   34      F      No        Yes              No        Euthyroid   \n",
            "2   30      F      No         No              No        Euthyroid   \n",
            "3   62      F      No         No              No        Euthyroid   \n",
            "4   62      F      No         No              No        Euthyroid   \n",
            "\n",
            "          Physical Examination Adenopathy       Pathology     Focality Risk  \\\n",
            "0   Single nodular goiter-left         No  Micropapillary    Uni-Focal  Low   \n",
            "1          Multinodular goiter         No  Micropapillary    Uni-Focal  Low   \n",
            "2  Single nodular goiter-right         No  Micropapillary    Uni-Focal  Low   \n",
            "3  Single nodular goiter-right         No  Micropapillary    Uni-Focal  Low   \n",
            "4          Multinodular goiter         No  Micropapillary  Multi-Focal  Low   \n",
            "\n",
            "     T   N   M Stage       Response Recurred  \n",
            "0  T1a  N0  M0     I  Indeterminate       No  \n",
            "1  T1a  N0  M0     I      Excellent       No  \n",
            "2  T1a  N0  M0     I      Excellent       No  \n",
            "3  T1a  N0  M0     I      Excellent       No  \n",
            "4  T1a  N0  M0     I      Excellent       No  \n"
          ]
        }
      ]
    },
    {
      "cell_type": "code",
      "source": [
        "# Displaying the last few rows of the DataFrame\n",
        "print(\"\\nLast few rows of the DataFrame:\")\n",
        "print(df.tail())"
      ],
      "metadata": {
        "colab": {
          "base_uri": "https://localhost:8080/"
        },
        "id": "LoLOlXSGhJ_c",
        "outputId": "6e25d733-06b7-42ef-8f79-c909dedff9be"
      },
      "execution_count": 9,
      "outputs": [
        {
          "output_type": "stream",
          "name": "stdout",
          "text": [
            "\n",
            "Last few rows of the DataFrame:\n",
            "     Age Gender Smoking Hx Smoking Hx Radiothreapy          Thyroid Function  \\\n",
            "378   72      M     Yes        Yes             Yes                 Euthyroid   \n",
            "379   81      M     Yes         No             Yes                 Euthyroid   \n",
            "380   72      M     Yes        Yes              No                 Euthyroid   \n",
            "381   61      M     Yes        Yes             Yes  Clinical Hyperthyroidism   \n",
            "382   67      M     Yes         No              No                 Euthyroid   \n",
            "\n",
            "            Physical Examination Adenopathy     Pathology     Focality  Risk  \\\n",
            "378  Single nodular goiter-right      Right     Papillary    Uni-Focal  High   \n",
            "379          Multinodular goiter  Extensive     Papillary  Multi-Focal  High   \n",
            "380          Multinodular goiter  Bilateral     Papillary  Multi-Focal  High   \n",
            "381          Multinodular goiter  Extensive  Hurthel cell  Multi-Focal  High   \n",
            "382          Multinodular goiter  Bilateral     Papillary  Multi-Focal  High   \n",
            "\n",
            "       T    N   M Stage                Response Recurred  \n",
            "378  T4b  N1b  M1   IVB  Biochemical Incomplete      Yes  \n",
            "379  T4b  N1b  M1   IVB   Structural Incomplete      Yes  \n",
            "380  T4b  N1b  M1   IVB   Structural Incomplete      Yes  \n",
            "381  T4b  N1b  M0   IVA   Structural Incomplete      Yes  \n",
            "382  T4b  N1b  M0   IVA   Structural Incomplete      Yes  \n"
          ]
        }
      ]
    },
    {
      "cell_type": "code",
      "source": [
        "# Displaying the shape of the DataFrame\n",
        "print(\"\\nShape of the DataFrame:\")\n",
        "print(df.shape)"
      ],
      "metadata": {
        "colab": {
          "base_uri": "https://localhost:8080/"
        },
        "id": "o5g2pTLvhJ5Q",
        "outputId": "2ffc4c4c-8cb0-4b20-8698-f5b6b79f068f"
      },
      "execution_count": 8,
      "outputs": [
        {
          "output_type": "stream",
          "name": "stdout",
          "text": [
            "\n",
            "Shape of the DataFrame:\n",
            "(383, 17)\n"
          ]
        }
      ]
    },
    {
      "cell_type": "code",
      "source": [
        "# Displaying the columns of the DataFrame\n",
        "print(\"\\nColumns of the DataFrame:\")\n",
        "print(df.columns)"
      ],
      "metadata": {
        "colab": {
          "base_uri": "https://localhost:8080/"
        },
        "id": "lwAmMklvhJ0V",
        "outputId": "c48785bc-429b-45f1-d6f0-192ea5665221"
      },
      "execution_count": 10,
      "outputs": [
        {
          "output_type": "stream",
          "name": "stdout",
          "text": [
            "\n",
            "Columns of the DataFrame:\n",
            "Index(['Age', 'Gender', 'Smoking', 'Hx Smoking', 'Hx Radiothreapy',\n",
            "       'Thyroid Function', 'Physical Examination', 'Adenopathy', 'Pathology',\n",
            "       'Focality', 'Risk', 'T', 'N', 'M', 'Stage', 'Response', 'Recurred'],\n",
            "      dtype='object')\n"
          ]
        }
      ]
    },
    {
      "cell_type": "code",
      "source": [
        "# Checking for duplicate rows in the DataFrame\n",
        "print(\"\\nNumber of duplicated rows in the DataFrame:\")\n",
        "print(df.duplicated().sum())"
      ],
      "metadata": {
        "colab": {
          "base_uri": "https://localhost:8080/"
        },
        "id": "U9ObLJxchJvG",
        "outputId": "e7aa591c-8278-49d0-9806-9d264c2c25ee"
      },
      "execution_count": 11,
      "outputs": [
        {
          "output_type": "stream",
          "name": "stdout",
          "text": [
            "\n",
            "Number of duplicated rows in the DataFrame:\n",
            "19\n"
          ]
        }
      ]
    },
    {
      "cell_type": "code",
      "source": [
        "# Dropping duplicates if any\n",
        "df = df.drop_duplicates()"
      ],
      "metadata": {
        "id": "ohqvZwlJhJpY"
      },
      "execution_count": 12,
      "outputs": []
    },
    {
      "cell_type": "code",
      "source": [
        "# Handling missing values if any\n",
        "# (This step is not included as the provided data snippet does not contain missing values)\n",
        "\n",
        "# Checking for missing values\n",
        "print(\"\\nMissing values in the DataFrame:\")\n",
        "print(df.isnull().sum())"
      ],
      "metadata": {
        "colab": {
          "base_uri": "https://localhost:8080/"
        },
        "id": "RkGDBfOthJjr",
        "outputId": "9582025d-a346-473e-c5dd-1256baf00906"
      },
      "execution_count": 13,
      "outputs": [
        {
          "output_type": "stream",
          "name": "stdout",
          "text": [
            "\n",
            "Missing values in the DataFrame:\n",
            "Age                     0\n",
            "Gender                  0\n",
            "Smoking                 0\n",
            "Hx Smoking              0\n",
            "Hx Radiothreapy         0\n",
            "Thyroid Function        0\n",
            "Physical Examination    0\n",
            "Adenopathy              0\n",
            "Pathology               0\n",
            "Focality                0\n",
            "Risk                    0\n",
            "T                       0\n",
            "N                       0\n",
            "M                       0\n",
            "Stage                   0\n",
            "Response                0\n",
            "Recurred                0\n",
            "dtype: int64\n"
          ]
        }
      ]
    },
    {
      "cell_type": "code",
      "source": [
        "# Information about the DataFrame\n",
        "print(\"\\nInformation about the DataFrame:\")\n",
        "print(df.info())"
      ],
      "metadata": {
        "colab": {
          "base_uri": "https://localhost:8080/"
        },
        "id": "3Oe68g58hJeH",
        "outputId": "58028b2f-1d6b-412a-dffe-53cf55766adb"
      },
      "execution_count": 14,
      "outputs": [
        {
          "output_type": "stream",
          "name": "stdout",
          "text": [
            "\n",
            "Information about the DataFrame:\n",
            "<class 'pandas.core.frame.DataFrame'>\n",
            "Index: 364 entries, 0 to 382\n",
            "Data columns (total 17 columns):\n",
            " #   Column                Non-Null Count  Dtype \n",
            "---  ------                --------------  ----- \n",
            " 0   Age                   364 non-null    int64 \n",
            " 1   Gender                364 non-null    object\n",
            " 2   Smoking               364 non-null    object\n",
            " 3   Hx Smoking            364 non-null    object\n",
            " 4   Hx Radiothreapy       364 non-null    object\n",
            " 5   Thyroid Function      364 non-null    object\n",
            " 6   Physical Examination  364 non-null    object\n",
            " 7   Adenopathy            364 non-null    object\n",
            " 8   Pathology             364 non-null    object\n",
            " 9   Focality              364 non-null    object\n",
            " 10  Risk                  364 non-null    object\n",
            " 11  T                     364 non-null    object\n",
            " 12  N                     364 non-null    object\n",
            " 13  M                     364 non-null    object\n",
            " 14  Stage                 364 non-null    object\n",
            " 15  Response              364 non-null    object\n",
            " 16  Recurred              364 non-null    object\n",
            "dtypes: int64(1), object(16)\n",
            "memory usage: 51.2+ KB\n",
            "None\n"
          ]
        }
      ]
    },
    {
      "cell_type": "code",
      "source": [
        "# Summary statistics of the DataFrame\n",
        "print(\"\\nSummary statistics of the DataFrame:\")\n",
        "print(df.describe())"
      ],
      "metadata": {
        "colab": {
          "base_uri": "https://localhost:8080/"
        },
        "id": "w7idxoZFhJYv",
        "outputId": "a7165274-7f5c-4c9c-b0cb-abffc9b644c1"
      },
      "execution_count": 15,
      "outputs": [
        {
          "output_type": "stream",
          "name": "stdout",
          "text": [
            "\n",
            "Summary statistics of the DataFrame:\n",
            "             Age\n",
            "count  364.00000\n",
            "mean    41.25000\n",
            "std     15.31436\n",
            "min     15.00000\n",
            "25%     30.00000\n",
            "50%     38.00000\n",
            "75%     52.00000\n",
            "max     82.00000\n"
          ]
        }
      ]
    },
    {
      "cell_type": "code",
      "source": [
        "# Encoding categorical variables\n",
        "object_columns = ['Gender', 'Smoking', 'Hx Smoking', 'Hx Radiothreapy',\n",
        "       'Thyroid Function', 'Physical Examination', 'Adenopathy', 'Pathology',\n",
        "       'Focality', 'Risk', 'T', 'N', 'M', 'Stage', 'Response']\n",
        "df = pd.get_dummies(df, columns=object_columns)"
      ],
      "metadata": {
        "id": "kDsD16OKhJTB"
      },
      "execution_count": 16,
      "outputs": []
    },
    {
      "cell_type": "code",
      "source": [
        "# Encoding the target variable\n",
        "label_encoder = LabelEncoder()\n",
        "df['Recurred'] = label_encoder.fit_transform(df['Recurred'])"
      ],
      "metadata": {
        "id": "FvCDDgl_hJNn"
      },
      "execution_count": 17,
      "outputs": []
    },
    {
      "cell_type": "code",
      "source": [
        "# Print DataFrame after LabelEncoder\n",
        "print(\"\\nDataFrame after LabelEncoder:\")\n",
        "print(df.head())"
      ],
      "metadata": {
        "colab": {
          "base_uri": "https://localhost:8080/"
        },
        "id": "0OMv9cjChJIE",
        "outputId": "f3f745f2-4d37-494b-dba1-e38e63642d73"
      },
      "execution_count": 18,
      "outputs": [
        {
          "output_type": "stream",
          "name": "stdout",
          "text": [
            "\n",
            "DataFrame after LabelEncoder:\n",
            "   Age  Recurred  Gender_F  Gender_M  Smoking_No  Smoking_Yes  Hx Smoking_No  \\\n",
            "0   27         0      True     False        True        False           True   \n",
            "1   34         0      True     False        True        False          False   \n",
            "2   30         0      True     False        True        False           True   \n",
            "3   62         0      True     False        True        False           True   \n",
            "4   62         0      True     False        True        False           True   \n",
            "\n",
            "   Hx Smoking_Yes  Hx Radiothreapy_No  Hx Radiothreapy_Yes  ...   M_M1  \\\n",
            "0           False                True                False  ...  False   \n",
            "1            True                True                False  ...  False   \n",
            "2           False                True                False  ...  False   \n",
            "3           False                True                False  ...  False   \n",
            "4           False                True                False  ...  False   \n",
            "\n",
            "   Stage_I  Stage_II  Stage_III  Stage_IVA  Stage_IVB  \\\n",
            "0     True     False      False      False      False   \n",
            "1     True     False      False      False      False   \n",
            "2     True     False      False      False      False   \n",
            "3     True     False      False      False      False   \n",
            "4     True     False      False      False      False   \n",
            "\n",
            "   Response_Biochemical Incomplete  Response_Excellent  \\\n",
            "0                            False               False   \n",
            "1                            False                True   \n",
            "2                            False                True   \n",
            "3                            False                True   \n",
            "4                            False                True   \n",
            "\n",
            "   Response_Indeterminate  Response_Structural Incomplete  \n",
            "0                    True                           False  \n",
            "1                   False                           False  \n",
            "2                   False                           False  \n",
            "3                   False                           False  \n",
            "4                   False                           False  \n",
            "\n",
            "[5 rows x 56 columns]\n"
          ]
        }
      ]
    },
    {
      "cell_type": "code",
      "source": [
        "# Print DataFrame after LabelEncoder\n",
        "print(\"\\nDataFrame after LabelEncoder:\")\n",
        "print(df.tail())"
      ],
      "metadata": {
        "colab": {
          "base_uri": "https://localhost:8080/"
        },
        "id": "zHCSLcwRhJB4",
        "outputId": "3d52eae4-efde-45f6-bf61-54ab7b70d5d5"
      },
      "execution_count": null,
      "outputs": [
        {
          "output_type": "stream",
          "name": "stdout",
          "text": [
            "\n",
            "DataFrame after LabelEncoder:\n",
            "     Age  Recurred  Gender_F  Gender_M  Smoking_No  Smoking_Yes  \\\n",
            "378   72         1     False      True       False         True   \n",
            "379   81         1     False      True       False         True   \n",
            "380   72         1     False      True       False         True   \n",
            "381   61         1     False      True       False         True   \n",
            "382   67         1     False      True       False         True   \n",
            "\n",
            "     Hx Smoking_No  Hx Smoking_Yes  Hx Radiothreapy_No  Hx Radiothreapy_Yes  \\\n",
            "378          False            True               False                 True   \n",
            "379           True           False               False                 True   \n",
            "380          False            True                True                False   \n",
            "381          False            True               False                 True   \n",
            "382           True           False                True                False   \n",
            "\n",
            "     ...   M_M1  Stage_I  Stage_II  Stage_III  Stage_IVA  Stage_IVB  \\\n",
            "378  ...   True    False     False      False      False       True   \n",
            "379  ...   True    False     False      False      False       True   \n",
            "380  ...   True    False     False      False      False       True   \n",
            "381  ...  False    False     False      False       True      False   \n",
            "382  ...  False    False     False      False       True      False   \n",
            "\n",
            "     Response_Biochemical Incomplete  Response_Excellent  \\\n",
            "378                             True               False   \n",
            "379                            False               False   \n",
            "380                            False               False   \n",
            "381                            False               False   \n",
            "382                            False               False   \n",
            "\n",
            "     Response_Indeterminate  Response_Structural Incomplete  \n",
            "378                   False                           False  \n",
            "379                   False                            True  \n",
            "380                   False                            True  \n",
            "381                   False                            True  \n",
            "382                   False                            True  \n",
            "\n",
            "[5 rows x 56 columns]\n"
          ]
        }
      ]
    },
    {
      "cell_type": "code",
      "source": [
        "# Splitting the dataset into train and test sets\n",
        "X = df.drop('Recurred', axis=1)\n",
        "y = df['Recurred']\n",
        "X_train, X_test, y_train, y_test = train_test_split(X, y, test_size=0.2, stratify=y, random_state=42)"
      ],
      "metadata": {
        "id": "o3YVYf2mhI66"
      },
      "execution_count": 19,
      "outputs": []
    },
    {
      "cell_type": "code",
      "source": [
        "print(\"X_train:\", X_train)\n",
        "print(\"X_test:\", X_test)\n",
        "print(\"y_train:\", y_train)\n",
        "print(\"y_test:\", y_test)\n"
      ],
      "metadata": {
        "colab": {
          "base_uri": "https://localhost:8080/"
        },
        "id": "tbYar9fbJ3Z8",
        "outputId": "e66d861e-0d7f-4eb3-cf4e-49e2fefa9395"
      },
      "execution_count": 21,
      "outputs": [
        {
          "output_type": "stream",
          "name": "stdout",
          "text": [
            "X_train:      Age  Gender_F  Gender_M  Smoking_No  Smoking_Yes  Hx Smoking_No  \\\n",
            "351   59     False      True       False         True          False   \n",
            "320   80      True     False       False         True           True   \n",
            "109   60      True     False        True        False           True   \n",
            "49    29      True     False        True        False           True   \n",
            "245   34      True     False        True        False           True   \n",
            "..   ...       ...       ...         ...          ...            ...   \n",
            "219   40      True     False        True        False           True   \n",
            "85    25      True     False        True        False          False   \n",
            "381   61     False      True       False         True          False   \n",
            "3     62      True     False        True        False           True   \n",
            "157   24     False      True        True        False           True   \n",
            "\n",
            "     Hx Smoking_Yes  Hx Radiothreapy_No  Hx Radiothreapy_Yes  \\\n",
            "351            True                True                False   \n",
            "320           False                True                False   \n",
            "109           False                True                False   \n",
            "49            False                True                False   \n",
            "245           False                True                False   \n",
            "..              ...                 ...                  ...   \n",
            "219           False                True                False   \n",
            "85             True               False                 True   \n",
            "381            True               False                 True   \n",
            "3             False                True                False   \n",
            "157           False                True                False   \n",
            "\n",
            "     Thyroid Function_Clinical Hyperthyroidism  ...   M_M1  Stage_I  Stage_II  \\\n",
            "351                                      False  ...  False     True     False   \n",
            "320                                      False  ...  False    False      True   \n",
            "109                                      False  ...  False     True     False   \n",
            "49                                       False  ...  False     True     False   \n",
            "245                                      False  ...  False     True     False   \n",
            "..                                         ...  ...    ...      ...       ...   \n",
            "219                                      False  ...  False     True     False   \n",
            "85                                       False  ...  False     True     False   \n",
            "381                                       True  ...  False    False     False   \n",
            "3                                        False  ...  False     True     False   \n",
            "157                                      False  ...  False     True     False   \n",
            "\n",
            "     Stage_III  Stage_IVA  Stage_IVB  Response_Biochemical Incomplete  \\\n",
            "351      False      False      False                            False   \n",
            "320      False      False      False                            False   \n",
            "109      False      False      False                             True   \n",
            "49       False      False      False                            False   \n",
            "245      False      False      False                            False   \n",
            "..         ...        ...        ...                              ...   \n",
            "219      False      False      False                            False   \n",
            "85       False      False      False                            False   \n",
            "381      False       True      False                            False   \n",
            "3        False      False      False                            False   \n",
            "157      False      False      False                            False   \n",
            "\n",
            "     Response_Excellent  Response_Indeterminate  \\\n",
            "351               False                   False   \n",
            "320               False                   False   \n",
            "109               False                   False   \n",
            "49                 True                   False   \n",
            "245               False                    True   \n",
            "..                  ...                     ...   \n",
            "219                True                   False   \n",
            "85                 True                   False   \n",
            "381               False                   False   \n",
            "3                  True                   False   \n",
            "157                True                   False   \n",
            "\n",
            "     Response_Structural Incomplete  \n",
            "351                            True  \n",
            "320                            True  \n",
            "109                           False  \n",
            "49                            False  \n",
            "245                           False  \n",
            "..                              ...  \n",
            "219                           False  \n",
            "85                            False  \n",
            "381                            True  \n",
            "3                             False  \n",
            "157                           False  \n",
            "\n",
            "[291 rows x 55 columns]\n",
            "X_test:      Age  Gender_F  Gender_M  Smoking_No  Smoking_Yes  Hx Smoking_No  \\\n",
            "119   28      True     False        True        False           True   \n",
            "239   33     False      True        True        False           True   \n",
            "171   21      True     False        True        False           True   \n",
            "355   32      True     False        True        False           True   \n",
            "139   42      True     False        True        False           True   \n",
            "..   ...       ...       ...         ...          ...            ...   \n",
            "118   47      True     False        True        False           True   \n",
            "302   67     False      True       False         True          False   \n",
            "379   81     False      True       False         True           True   \n",
            "148   33      True     False        True        False           True   \n",
            "213   51     False      True        True        False           True   \n",
            "\n",
            "     Hx Smoking_Yes  Hx Radiothreapy_No  Hx Radiothreapy_Yes  \\\n",
            "119           False                True                False   \n",
            "239           False                True                False   \n",
            "171           False                True                False   \n",
            "355           False                True                False   \n",
            "139           False                True                False   \n",
            "..              ...                 ...                  ...   \n",
            "118           False                True                False   \n",
            "302            True                True                False   \n",
            "379           False               False                 True   \n",
            "148           False                True                False   \n",
            "213           False                True                False   \n",
            "\n",
            "     Thyroid Function_Clinical Hyperthyroidism  ...   M_M1  Stage_I  Stage_II  \\\n",
            "119                                      False  ...  False     True     False   \n",
            "239                                      False  ...  False     True     False   \n",
            "171                                      False  ...  False     True     False   \n",
            "355                                      False  ...  False     True     False   \n",
            "139                                      False  ...  False     True     False   \n",
            "..                                         ...  ...    ...      ...       ...   \n",
            "118                                      False  ...  False     True     False   \n",
            "302                                      False  ...  False    False      True   \n",
            "379                                      False  ...   True    False     False   \n",
            "148                                      False  ...  False     True     False   \n",
            "213                                       True  ...  False     True     False   \n",
            "\n",
            "     Stage_III  Stage_IVA  Stage_IVB  Response_Biochemical Incomplete  \\\n",
            "119      False      False      False                            False   \n",
            "239      False      False      False                            False   \n",
            "171      False      False      False                            False   \n",
            "355      False      False      False                            False   \n",
            "139      False      False      False                             True   \n",
            "..         ...        ...        ...                              ...   \n",
            "118      False      False      False                            False   \n",
            "302      False      False      False                             True   \n",
            "379      False      False       True                            False   \n",
            "148      False      False      False                            False   \n",
            "213      False      False      False                            False   \n",
            "\n",
            "     Response_Excellent  Response_Indeterminate  \\\n",
            "119                True                   False   \n",
            "239               False                   False   \n",
            "171                True                   False   \n",
            "355                True                   False   \n",
            "139               False                   False   \n",
            "..                  ...                     ...   \n",
            "118                True                   False   \n",
            "302               False                   False   \n",
            "379               False                   False   \n",
            "148                True                   False   \n",
            "213               False                    True   \n",
            "\n",
            "     Response_Structural Incomplete  \n",
            "119                           False  \n",
            "239                            True  \n",
            "171                           False  \n",
            "355                           False  \n",
            "139                           False  \n",
            "..                              ...  \n",
            "118                           False  \n",
            "302                           False  \n",
            "379                            True  \n",
            "148                           False  \n",
            "213                           False  \n",
            "\n",
            "[73 rows x 55 columns]\n",
            "y_train: 351    1\n",
            "320    1\n",
            "109    0\n",
            "49     0\n",
            "245    0\n",
            "      ..\n",
            "219    0\n",
            "85     0\n",
            "381    1\n",
            "3      0\n",
            "157    0\n",
            "Name: Recurred, Length: 291, dtype: int64\n",
            "y_test: 119    0\n",
            "239    1\n",
            "171    0\n",
            "355    0\n",
            "139    0\n",
            "      ..\n",
            "118    0\n",
            "302    1\n",
            "379    1\n",
            "148    0\n",
            "213    0\n",
            "Name: Recurred, Length: 73, dtype: int64\n"
          ]
        }
      ]
    },
    {
      "cell_type": "code",
      "source": [
        "# Training and evaluating a Logistic Regression model\n",
        "log_reg_model = LogisticRegression()\n",
        "log_reg_model.fit(X_train, y_train)\n",
        "y_pred_log_reg = log_reg_model.predict(X_test)"
      ],
      "metadata": {
        "id": "RPVys3xPhIzI"
      },
      "execution_count": 20,
      "outputs": []
    },
    {
      "cell_type": "code",
      "source": [
        "# Training and evaluating a Decision Tree Classifier\n",
        "dt_model = DecisionTreeClassifier()\n",
        "dt_model.fit(X_train, y_train)\n",
        "y_pred_dt = dt_model.predict(X_test)"
      ],
      "metadata": {
        "id": "fxm5PzhohIrq"
      },
      "execution_count": 22,
      "outputs": []
    },
    {
      "cell_type": "code",
      "source": [
        "# Training and evaluating a Support Vector Classifier\n",
        "sv_model = SVC()\n",
        "sv_model.fit(X_train, y_train)\n",
        "y_pred_sv = sv_model.predict(X_test)"
      ],
      "metadata": {
        "id": "lEtz_qUdhIj5"
      },
      "execution_count": 23,
      "outputs": []
    },
    {
      "cell_type": "code",
      "source": [
        "# Evaluating Logistic Regression model\n",
        "accuracy_log_reg = accuracy_score(y_test, y_pred_log_reg)\n",
        "report_log_reg = classification_report(y_test, y_pred_log_reg)\n",
        "print(\"\\nLogistic Regression Classifier Results:\")\n",
        "print(f\"Accuracy: {accuracy_log_reg}\")\n",
        "print(f\"Classification Report:\\n{report_log_reg}\")"
      ],
      "metadata": {
        "colab": {
          "base_uri": "https://localhost:8080/"
        },
        "id": "ncVL6NfKhIYW",
        "outputId": "c75bb487-87e6-4b1f-c76b-e946f785de4f"
      },
      "execution_count": 24,
      "outputs": [
        {
          "output_type": "stream",
          "name": "stdout",
          "text": [
            "\n",
            "Logistic Regression Classifier Results:\n",
            "Accuracy: 0.9452054794520548\n",
            "Classification Report:\n",
            "              precision    recall  f1-score   support\n",
            "\n",
            "           0       0.98      0.94      0.96        51\n",
            "           1       0.88      0.95      0.91        22\n",
            "\n",
            "    accuracy                           0.95        73\n",
            "   macro avg       0.93      0.95      0.94        73\n",
            "weighted avg       0.95      0.95      0.95        73\n",
            "\n"
          ]
        }
      ]
    },
    {
      "cell_type": "code",
      "source": [
        "# Evaluating Decision Tree Classifier\n",
        "accuracy_dt = accuracy_score(y_test, y_pred_dt)\n",
        "report_dt = classification_report(y_test, y_pred_dt)\n",
        "print(\"\\nDecision Tree Classifier Results:\")\n",
        "print(f\"Accuracy: {accuracy_dt}\")\n",
        "print(f\"Classification Report:\\n{report_dt}\")"
      ],
      "metadata": {
        "colab": {
          "base_uri": "https://localhost:8080/"
        },
        "id": "gJyy-3DioHmf",
        "outputId": "c418e4fc-78e6-4868-cf68-7a8e89a75f5b"
      },
      "execution_count": 25,
      "outputs": [
        {
          "output_type": "stream",
          "name": "stdout",
          "text": [
            "\n",
            "Decision Tree Classifier Results:\n",
            "Accuracy: 0.9315068493150684\n",
            "Classification Report:\n",
            "              precision    recall  f1-score   support\n",
            "\n",
            "           0       0.96      0.94      0.95        51\n",
            "           1       0.87      0.91      0.89        22\n",
            "\n",
            "    accuracy                           0.93        73\n",
            "   macro avg       0.91      0.93      0.92        73\n",
            "weighted avg       0.93      0.93      0.93        73\n",
            "\n"
          ]
        }
      ]
    },
    {
      "cell_type": "code",
      "source": [
        "# Evaluating Support Vector Classifier\n",
        "accuracy_sv = accuracy_score(y_test, y_pred_sv)\n",
        "report_sv = classification_report(y_test, y_pred_sv)\n",
        "print(\"\\nSupport Vector Classifier Results:\")\n",
        "print(f\"Accuracy: {accuracy_sv}\")\n",
        "print(f\"Classification Report:\\n{report_sv}\")"
      ],
      "metadata": {
        "colab": {
          "base_uri": "https://localhost:8080/"
        },
        "id": "r8N4d-y-oHeG",
        "outputId": "bfbadb60-f072-46e5-d6ef-01b3af9a9d82"
      },
      "execution_count": 26,
      "outputs": [
        {
          "output_type": "stream",
          "name": "stdout",
          "text": [
            "\n",
            "Support Vector Classifier Results:\n",
            "Accuracy: 0.7397260273972602\n",
            "Classification Report:\n",
            "              precision    recall  f1-score   support\n",
            "\n",
            "           0       0.74      0.98      0.84        51\n",
            "           1       0.80      0.18      0.30        22\n",
            "\n",
            "    accuracy                           0.74        73\n",
            "   macro avg       0.77      0.58      0.57        73\n",
            "weighted avg       0.75      0.74      0.68        73\n",
            "\n"
          ]
        }
      ]
    }
  ]
}