{
  "nbformat": 4,
  "nbformat_minor": 0,
  "metadata": {
    "colab": {
      "provenance": [],
      "authorship_tag": "ABX9TyO7x9w3mySOTh5f6HyoU6TU",
      "include_colab_link": true
    },
    "kernelspec": {
      "name": "python3",
      "display_name": "Python 3"
    },
    "language_info": {
      "name": "python"
    }
  },
  "cells": [
    {
      "cell_type": "markdown",
      "metadata": {
        "id": "view-in-github",
        "colab_type": "text"
      },
      "source": [
        "<a href=\"https://colab.research.google.com/github/NikhilMamilla/NikhilMamilla/blob/main/ThyroidDisease.ipynb\" target=\"_parent\"><img src=\"https://colab.research.google.com/assets/colab-badge.svg\" alt=\"Open In Colab\"/></a>"
      ]
    },
    {
      "cell_type": "markdown",
      "source": [
        "***THYROID DISEASE DATA***"
      ],
      "metadata": {
        "id": "5K02xW1saMwP"
      }
    },
    {
      "cell_type": "code",
      "source": [
        "# Importing necessary libraries\n",
        "import numpy as np\n",
        "import pandas as pd\n",
        "import matplotlib.pyplot as plt\n",
        "import seaborn as sns\n",
        "from sklearn.model_selection import train_test_split\n",
        "from sklearn.preprocessing import LabelEncoder\n",
        "from sklearn.linear_model import LogisticRegression\n",
        "from sklearn.tree import DecisionTreeClassifier\n",
        "from sklearn.metrics import accuracy_score, classification_report\n",
        "from sklearn.svm import SVC"
      ],
      "metadata": {
        "id": "6eAYQA-ahKXa"
      },
      "execution_count": null,
      "outputs": []
    },
    {
      "cell_type": "code",
      "source": [
        "# Suppressing warnings\n",
        "import warnings\n",
        "warnings.filterwarnings('ignore')"
      ],
      "metadata": {
        "id": "T_ca40DAhKQv"
      },
      "execution_count": null,
      "outputs": []
    },
    {
      "cell_type": "code",
      "source": [
        "# Importing the dataset\n",
        "df = pd.read_csv('Thyroid_Diff.csv')"
      ],
      "metadata": {
        "id": "ZIwEgaawhKKt"
      },
      "execution_count": null,
      "outputs": []
    },
    {
      "cell_type": "code",
      "source": [
        "# Displaying the first few rows of the DataFrame\n",
        "print(\"First few rows of the DataFrame:\")\n",
        "print(df.head())"
      ],
      "metadata": {
        "colab": {
          "base_uri": "https://localhost:8080/"
        },
        "id": "Rb0L71eXhKFA",
        "outputId": "9ec6d701-5561-4354-e2da-13bfa4fa48b1"
      },
      "execution_count": null,
      "outputs": [
        {
          "output_type": "stream",
          "name": "stdout",
          "text": [
            "First few rows of the DataFrame:\n",
            "   Age Gender Smoking Hx Smoking Hx Radiothreapy Thyroid Function  \\\n",
            "0   27      F      No         No              No        Euthyroid   \n",
            "1   34      F      No        Yes              No        Euthyroid   \n",
            "2   30      F      No         No              No        Euthyroid   \n",
            "3   62      F      No         No              No        Euthyroid   \n",
            "4   62      F      No         No              No        Euthyroid   \n",
            "\n",
            "          Physical Examination Adenopathy       Pathology     Focality Risk  \\\n",
            "0   Single nodular goiter-left         No  Micropapillary    Uni-Focal  Low   \n",
            "1          Multinodular goiter         No  Micropapillary    Uni-Focal  Low   \n",
            "2  Single nodular goiter-right         No  Micropapillary    Uni-Focal  Low   \n",
            "3  Single nodular goiter-right         No  Micropapillary    Uni-Focal  Low   \n",
            "4          Multinodular goiter         No  Micropapillary  Multi-Focal  Low   \n",
            "\n",
            "     T   N   M Stage       Response Recurred  \n",
            "0  T1a  N0  M0     I  Indeterminate       No  \n",
            "1  T1a  N0  M0     I      Excellent       No  \n",
            "2  T1a  N0  M0     I      Excellent       No  \n",
            "3  T1a  N0  M0     I      Excellent       No  \n",
            "4  T1a  N0  M0     I      Excellent       No  \n"
          ]
        }
      ]
    },
    {
      "cell_type": "code",
      "source": [
        "# Displaying the last few rows of the DataFrame\n",
        "print(\"\\nLast few rows of the DataFrame:\")\n",
        "print(df.tail())"
      ],
      "metadata": {
        "colab": {
          "base_uri": "https://localhost:8080/"
        },
        "id": "LoLOlXSGhJ_c",
        "outputId": "12e7bd8c-f2da-41ad-aa8c-6732c73a1ea3"
      },
      "execution_count": null,
      "outputs": [
        {
          "output_type": "stream",
          "name": "stdout",
          "text": [
            "\n",
            "Last few rows of the DataFrame:\n",
            "     Age Gender Smoking Hx Smoking Hx Radiothreapy          Thyroid Function  \\\n",
            "378   72      M     Yes        Yes             Yes                 Euthyroid   \n",
            "379   81      M     Yes         No             Yes                 Euthyroid   \n",
            "380   72      M     Yes        Yes              No                 Euthyroid   \n",
            "381   61      M     Yes        Yes             Yes  Clinical Hyperthyroidism   \n",
            "382   67      M     Yes         No              No                 Euthyroid   \n",
            "\n",
            "            Physical Examination Adenopathy     Pathology     Focality  Risk  \\\n",
            "378  Single nodular goiter-right      Right     Papillary    Uni-Focal  High   \n",
            "379          Multinodular goiter  Extensive     Papillary  Multi-Focal  High   \n",
            "380          Multinodular goiter  Bilateral     Papillary  Multi-Focal  High   \n",
            "381          Multinodular goiter  Extensive  Hurthel cell  Multi-Focal  High   \n",
            "382          Multinodular goiter  Bilateral     Papillary  Multi-Focal  High   \n",
            "\n",
            "       T    N   M Stage                Response Recurred  \n",
            "378  T4b  N1b  M1   IVB  Biochemical Incomplete      Yes  \n",
            "379  T4b  N1b  M1   IVB   Structural Incomplete      Yes  \n",
            "380  T4b  N1b  M1   IVB   Structural Incomplete      Yes  \n",
            "381  T4b  N1b  M0   IVA   Structural Incomplete      Yes  \n",
            "382  T4b  N1b  M0   IVA   Structural Incomplete      Yes  \n"
          ]
        }
      ]
    },
    {
      "cell_type": "code",
      "source": [
        "# Displaying the shape of the DataFrame\n",
        "print(\"\\nShape of the DataFrame:\")\n",
        "print(df.shape)"
      ],
      "metadata": {
        "colab": {
          "base_uri": "https://localhost:8080/"
        },
        "id": "o5g2pTLvhJ5Q",
        "outputId": "eedbbed6-890c-41d3-ddb4-ecbbb14ac394"
      },
      "execution_count": null,
      "outputs": [
        {
          "output_type": "stream",
          "name": "stdout",
          "text": [
            "\n",
            "Shape of the DataFrame:\n",
            "(383, 17)\n"
          ]
        }
      ]
    },
    {
      "cell_type": "code",
      "source": [
        "# Displaying the columns of the DataFrame\n",
        "print(\"\\nColumns of the DataFrame:\")\n",
        "print(df.columns)"
      ],
      "metadata": {
        "colab": {
          "base_uri": "https://localhost:8080/"
        },
        "id": "lwAmMklvhJ0V",
        "outputId": "89ce7261-85a4-4269-a0e3-46a9518f8ed4"
      },
      "execution_count": null,
      "outputs": [
        {
          "output_type": "stream",
          "name": "stdout",
          "text": [
            "\n",
            "Columns of the DataFrame:\n",
            "Index(['Age', 'Gender', 'Smoking', 'Hx Smoking', 'Hx Radiothreapy',\n",
            "       'Thyroid Function', 'Physical Examination', 'Adenopathy', 'Pathology',\n",
            "       'Focality', 'Risk', 'T', 'N', 'M', 'Stage', 'Response', 'Recurred'],\n",
            "      dtype='object')\n"
          ]
        }
      ]
    },
    {
      "cell_type": "code",
      "source": [
        "# Checking for duplicate rows in the DataFrame\n",
        "print(\"\\nNumber of duplicated rows in the DataFrame:\")\n",
        "print(df.duplicated().sum())"
      ],
      "metadata": {
        "colab": {
          "base_uri": "https://localhost:8080/"
        },
        "id": "U9ObLJxchJvG",
        "outputId": "6ff1d4b9-e89c-449d-9501-3a03620517f8"
      },
      "execution_count": null,
      "outputs": [
        {
          "output_type": "stream",
          "name": "stdout",
          "text": [
            "\n",
            "Number of duplicated rows in the DataFrame:\n",
            "19\n"
          ]
        }
      ]
    },
    {
      "cell_type": "code",
      "source": [
        "# Dropping duplicates if any\n",
        "df = df.drop_duplicates()"
      ],
      "metadata": {
        "id": "ohqvZwlJhJpY"
      },
      "execution_count": null,
      "outputs": []
    },
    {
      "cell_type": "code",
      "source": [
        "# Handling missing values if any\n",
        "# (This step is not included as the provided data snippet does not contain missing values)\n",
        "\n",
        "# Checking for missing values\n",
        "print(\"\\nMissing values in the DataFrame:\")\n",
        "print(df.isnull().sum())"
      ],
      "metadata": {
        "colab": {
          "base_uri": "https://localhost:8080/"
        },
        "id": "RkGDBfOthJjr",
        "outputId": "b07d7867-1d97-48ca-b78b-135b923e2423"
      },
      "execution_count": null,
      "outputs": [
        {
          "output_type": "stream",
          "name": "stdout",
          "text": [
            "\n",
            "Missing values in the DataFrame:\n",
            "Age                     0\n",
            "Gender                  0\n",
            "Smoking                 0\n",
            "Hx Smoking              0\n",
            "Hx Radiothreapy         0\n",
            "Thyroid Function        0\n",
            "Physical Examination    0\n",
            "Adenopathy              0\n",
            "Pathology               0\n",
            "Focality                0\n",
            "Risk                    0\n",
            "T                       0\n",
            "N                       0\n",
            "M                       0\n",
            "Stage                   0\n",
            "Response                0\n",
            "Recurred                0\n",
            "dtype: int64\n"
          ]
        }
      ]
    },
    {
      "cell_type": "code",
      "source": [
        "# Information about the DataFrame\n",
        "print(\"\\nInformation about the DataFrame:\")\n",
        "print(df.info())"
      ],
      "metadata": {
        "colab": {
          "base_uri": "https://localhost:8080/"
        },
        "id": "3Oe68g58hJeH",
        "outputId": "00d3852b-65c0-4aa7-df1e-5f7fd5efbfa2"
      },
      "execution_count": null,
      "outputs": [
        {
          "output_type": "stream",
          "name": "stdout",
          "text": [
            "\n",
            "Information about the DataFrame:\n",
            "<class 'pandas.core.frame.DataFrame'>\n",
            "Index: 364 entries, 0 to 382\n",
            "Data columns (total 17 columns):\n",
            " #   Column                Non-Null Count  Dtype \n",
            "---  ------                --------------  ----- \n",
            " 0   Age                   364 non-null    int64 \n",
            " 1   Gender                364 non-null    object\n",
            " 2   Smoking               364 non-null    object\n",
            " 3   Hx Smoking            364 non-null    object\n",
            " 4   Hx Radiothreapy       364 non-null    object\n",
            " 5   Thyroid Function      364 non-null    object\n",
            " 6   Physical Examination  364 non-null    object\n",
            " 7   Adenopathy            364 non-null    object\n",
            " 8   Pathology             364 non-null    object\n",
            " 9   Focality              364 non-null    object\n",
            " 10  Risk                  364 non-null    object\n",
            " 11  T                     364 non-null    object\n",
            " 12  N                     364 non-null    object\n",
            " 13  M                     364 non-null    object\n",
            " 14  Stage                 364 non-null    object\n",
            " 15  Response              364 non-null    object\n",
            " 16  Recurred              364 non-null    object\n",
            "dtypes: int64(1), object(16)\n",
            "memory usage: 51.2+ KB\n",
            "None\n"
          ]
        }
      ]
    },
    {
      "cell_type": "code",
      "source": [
        "# Summary statistics of the DataFrame\n",
        "print(\"\\nSummary statistics of the DataFrame:\")\n",
        "print(df.describe())"
      ],
      "metadata": {
        "colab": {
          "base_uri": "https://localhost:8080/"
        },
        "id": "w7idxoZFhJYv",
        "outputId": "69ea63f2-68de-40f7-b21e-ca5c9747e9f4"
      },
      "execution_count": null,
      "outputs": [
        {
          "output_type": "stream",
          "name": "stdout",
          "text": [
            "\n",
            "Summary statistics of the DataFrame:\n",
            "             Age\n",
            "count  364.00000\n",
            "mean    41.25000\n",
            "std     15.31436\n",
            "min     15.00000\n",
            "25%     30.00000\n",
            "50%     38.00000\n",
            "75%     52.00000\n",
            "max     82.00000\n"
          ]
        }
      ]
    },
    {
      "cell_type": "code",
      "source": [
        "# Encoding categorical variables\n",
        "object_columns = ['Gender', 'Smoking', 'Hx Smoking', 'Hx Radiothreapy',\n",
        "       'Thyroid Function', 'Physical Examination', 'Adenopathy', 'Pathology',\n",
        "       'Focality', 'Risk', 'T', 'N', 'M', 'Stage', 'Response']\n",
        "df = pd.get_dummies(df, columns=object_columns)"
      ],
      "metadata": {
        "id": "kDsD16OKhJTB"
      },
      "execution_count": null,
      "outputs": []
    },
    {
      "cell_type": "code",
      "source": [
        "# Encoding the target variable\n",
        "label_encoder = LabelEncoder()\n",
        "df['Recurred'] = label_encoder.fit_transform(df['Recurred'])"
      ],
      "metadata": {
        "id": "FvCDDgl_hJNn"
      },
      "execution_count": null,
      "outputs": []
    },
    {
      "cell_type": "code",
      "source": [
        "# Print DataFrame after LabelEncoder\n",
        "print(\"\\nDataFrame after LabelEncoder:\")\n",
        "print(df.head())"
      ],
      "metadata": {
        "colab": {
          "base_uri": "https://localhost:8080/"
        },
        "id": "0OMv9cjChJIE",
        "outputId": "313150b8-0f17-490a-db00-3df9ae22a151"
      },
      "execution_count": null,
      "outputs": [
        {
          "output_type": "stream",
          "name": "stdout",
          "text": [
            "\n",
            "DataFrame after LabelEncoder:\n",
            "   Age  Recurred  Gender_F  Gender_M  Smoking_No  Smoking_Yes  Hx Smoking_No  \\\n",
            "0   27         0      True     False        True        False           True   \n",
            "1   34         0      True     False        True        False          False   \n",
            "2   30         0      True     False        True        False           True   \n",
            "3   62         0      True     False        True        False           True   \n",
            "4   62         0      True     False        True        False           True   \n",
            "\n",
            "   Hx Smoking_Yes  Hx Radiothreapy_No  Hx Radiothreapy_Yes  ...   M_M1  \\\n",
            "0           False                True                False  ...  False   \n",
            "1            True                True                False  ...  False   \n",
            "2           False                True                False  ...  False   \n",
            "3           False                True                False  ...  False   \n",
            "4           False                True                False  ...  False   \n",
            "\n",
            "   Stage_I  Stage_II  Stage_III  Stage_IVA  Stage_IVB  \\\n",
            "0     True     False      False      False      False   \n",
            "1     True     False      False      False      False   \n",
            "2     True     False      False      False      False   \n",
            "3     True     False      False      False      False   \n",
            "4     True     False      False      False      False   \n",
            "\n",
            "   Response_Biochemical Incomplete  Response_Excellent  \\\n",
            "0                            False               False   \n",
            "1                            False                True   \n",
            "2                            False                True   \n",
            "3                            False                True   \n",
            "4                            False                True   \n",
            "\n",
            "   Response_Indeterminate  Response_Structural Incomplete  \n",
            "0                    True                           False  \n",
            "1                   False                           False  \n",
            "2                   False                           False  \n",
            "3                   False                           False  \n",
            "4                   False                           False  \n",
            "\n",
            "[5 rows x 56 columns]\n"
          ]
        }
      ]
    },
    {
      "cell_type": "code",
      "source": [
        "# Print DataFrame after LabelEncoder\n",
        "print(\"\\nDataFrame after LabelEncoder:\")\n",
        "print(df.tail())"
      ],
      "metadata": {
        "colab": {
          "base_uri": "https://localhost:8080/"
        },
        "id": "zHCSLcwRhJB4",
        "outputId": "3d52eae4-efde-45f6-bf61-54ab7b70d5d5"
      },
      "execution_count": null,
      "outputs": [
        {
          "output_type": "stream",
          "name": "stdout",
          "text": [
            "\n",
            "DataFrame after LabelEncoder:\n",
            "     Age  Recurred  Gender_F  Gender_M  Smoking_No  Smoking_Yes  \\\n",
            "378   72         1     False      True       False         True   \n",
            "379   81         1     False      True       False         True   \n",
            "380   72         1     False      True       False         True   \n",
            "381   61         1     False      True       False         True   \n",
            "382   67         1     False      True       False         True   \n",
            "\n",
            "     Hx Smoking_No  Hx Smoking_Yes  Hx Radiothreapy_No  Hx Radiothreapy_Yes  \\\n",
            "378          False            True               False                 True   \n",
            "379           True           False               False                 True   \n",
            "380          False            True                True                False   \n",
            "381          False            True               False                 True   \n",
            "382           True           False                True                False   \n",
            "\n",
            "     ...   M_M1  Stage_I  Stage_II  Stage_III  Stage_IVA  Stage_IVB  \\\n",
            "378  ...   True    False     False      False      False       True   \n",
            "379  ...   True    False     False      False      False       True   \n",
            "380  ...   True    False     False      False      False       True   \n",
            "381  ...  False    False     False      False       True      False   \n",
            "382  ...  False    False     False      False       True      False   \n",
            "\n",
            "     Response_Biochemical Incomplete  Response_Excellent  \\\n",
            "378                             True               False   \n",
            "379                            False               False   \n",
            "380                            False               False   \n",
            "381                            False               False   \n",
            "382                            False               False   \n",
            "\n",
            "     Response_Indeterminate  Response_Structural Incomplete  \n",
            "378                   False                           False  \n",
            "379                   False                            True  \n",
            "380                   False                            True  \n",
            "381                   False                            True  \n",
            "382                   False                            True  \n",
            "\n",
            "[5 rows x 56 columns]\n"
          ]
        }
      ]
    },
    {
      "cell_type": "code",
      "source": [
        "# Splitting the dataset into train and test sets\n",
        "X = df.drop('Recurred', axis=1)\n",
        "y = df['Recurred']\n",
        "X_train, X_test, y_train, y_test = train_test_split(X, y, test_size=0.2, stratify=y, random_state=42)"
      ],
      "metadata": {
        "id": "o3YVYf2mhI66"
      },
      "execution_count": null,
      "outputs": []
    },
    {
      "cell_type": "code",
      "source": [
        "# Training and evaluating a Logistic Regression model\n",
        "log_reg_model = LogisticRegression()\n",
        "log_reg_model.fit(X_train, y_train)\n",
        "y_pred_log_reg = log_reg_model.predict(X_test)"
      ],
      "metadata": {
        "id": "RPVys3xPhIzI"
      },
      "execution_count": null,
      "outputs": []
    },
    {
      "cell_type": "code",
      "source": [
        "# Training and evaluating a Decision Tree Classifier\n",
        "dt_model = DecisionTreeClassifier()\n",
        "dt_model.fit(X_train, y_train)\n",
        "y_pred_dt = dt_model.predict(X_test)"
      ],
      "metadata": {
        "id": "fxm5PzhohIrq"
      },
      "execution_count": null,
      "outputs": []
    },
    {
      "cell_type": "code",
      "source": [
        "# Training and evaluating a Support Vector Classifier\n",
        "sv_model = SVC()\n",
        "sv_model.fit(X_train, y_train)\n",
        "y_pred_sv = sv_model.predict(X_test)"
      ],
      "metadata": {
        "id": "lEtz_qUdhIj5"
      },
      "execution_count": null,
      "outputs": []
    },
    {
      "cell_type": "code",
      "source": [
        "# Evaluating Logistic Regression model\n",
        "accuracy_log_reg = accuracy_score(y_test, y_pred_log_reg)\n",
        "report_log_reg = classification_report(y_test, y_pred_log_reg)\n",
        "print(\"\\nLogistic Regression Classifier Results:\")\n",
        "print(f\"Accuracy: {accuracy_log_reg}\")\n",
        "print(f\"Classification Report:\\n{report_log_reg}\")"
      ],
      "metadata": {
        "colab": {
          "base_uri": "https://localhost:8080/"
        },
        "id": "ncVL6NfKhIYW",
        "outputId": "bfe2de53-be1c-4a63-b1ad-7233d1488447"
      },
      "execution_count": null,
      "outputs": [
        {
          "output_type": "stream",
          "name": "stdout",
          "text": [
            "\n",
            "Logistic Regression Classifier Results:\n",
            "Accuracy: 0.9452054794520548\n",
            "Classification Report:\n",
            "              precision    recall  f1-score   support\n",
            "\n",
            "           0       0.98      0.94      0.96        51\n",
            "           1       0.88      0.95      0.91        22\n",
            "\n",
            "    accuracy                           0.95        73\n",
            "   macro avg       0.93      0.95      0.94        73\n",
            "weighted avg       0.95      0.95      0.95        73\n",
            "\n"
          ]
        }
      ]
    },
    {
      "cell_type": "code",
      "source": [
        "# Evaluating Decision Tree Classifier\n",
        "accuracy_dt = accuracy_score(y_test, y_pred_dt)\n",
        "report_dt = classification_report(y_test, y_pred_dt)\n",
        "print(\"\\nDecision Tree Classifier Results:\")\n",
        "print(f\"Accuracy: {accuracy_dt}\")\n",
        "print(f\"Classification Report:\\n{report_dt}\")"
      ],
      "metadata": {
        "colab": {
          "base_uri": "https://localhost:8080/"
        },
        "id": "gJyy-3DioHmf",
        "outputId": "e2cb1872-7dca-40cc-d8ef-7bcfca276e83"
      },
      "execution_count": null,
      "outputs": [
        {
          "output_type": "stream",
          "name": "stdout",
          "text": [
            "\n",
            "Decision Tree Classifier Results:\n",
            "Accuracy: 0.9452054794520548\n",
            "Classification Report:\n",
            "              precision    recall  f1-score   support\n",
            "\n",
            "           0       0.98      0.94      0.96        51\n",
            "           1       0.88      0.95      0.91        22\n",
            "\n",
            "    accuracy                           0.95        73\n",
            "   macro avg       0.93      0.95      0.94        73\n",
            "weighted avg       0.95      0.95      0.95        73\n",
            "\n"
          ]
        }
      ]
    },
    {
      "cell_type": "code",
      "source": [
        "# Evaluating Support Vector Classifier\n",
        "accuracy_sv = accuracy_score(y_test, y_pred_sv)\n",
        "report_sv = classification_report(y_test, y_pred_sv)\n",
        "print(\"\\nSupport Vector Classifier Results:\")\n",
        "print(f\"Accuracy: {accuracy_sv}\")\n",
        "print(f\"Classification Report:\\n{report_sv}\")"
      ],
      "metadata": {
        "colab": {
          "base_uri": "https://localhost:8080/"
        },
        "id": "r8N4d-y-oHeG",
        "outputId": "342f0126-2b6c-4d87-e3c9-50bd0accdcdd"
      },
      "execution_count": null,
      "outputs": [
        {
          "output_type": "stream",
          "name": "stdout",
          "text": [
            "\n",
            "Support Vector Classifier Results:\n",
            "Accuracy: 0.7397260273972602\n",
            "Classification Report:\n",
            "              precision    recall  f1-score   support\n",
            "\n",
            "           0       0.74      0.98      0.84        51\n",
            "           1       0.80      0.18      0.30        22\n",
            "\n",
            "    accuracy                           0.74        73\n",
            "   macro avg       0.77      0.58      0.57        73\n",
            "weighted avg       0.75      0.74      0.68        73\n",
            "\n"
          ]
        }
      ]
    }
  ]
}