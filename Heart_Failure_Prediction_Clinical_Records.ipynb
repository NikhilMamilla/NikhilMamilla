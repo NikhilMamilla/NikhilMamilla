{
  "nbformat": 4,
  "nbformat_minor": 0,
  "metadata": {
    "colab": {
      "provenance": [],
      "authorship_tag": "ABX9TyNugtYNVKgDYDG9UTZoef/m",
      "include_colab_link": true
    },
    "kernelspec": {
      "name": "python3",
      "display_name": "Python 3"
    },
    "language_info": {
      "name": "python"
    }
  },
  "cells": [
    {
      "cell_type": "markdown",
      "metadata": {
        "id": "view-in-github",
        "colab_type": "text"
      },
      "source": [
        "<a href=\"https://colab.research.google.com/github/NikhilMamilla/NikhilMamilla/blob/main/Heart_Failure_Prediction_Clinical_Records.ipynb\" target=\"_parent\"><img src=\"https://colab.research.google.com/assets/colab-badge.svg\" alt=\"Open In Colab\"/></a>"
      ]
    },
    {
      "cell_type": "markdown",
      "source": [
        "***Heart Failure Prediction - Clinical Records***"
      ],
      "metadata": {
        "id": "S_U2aSt8fEZm"
      }
    },
    {
      "cell_type": "code",
      "source": [
        "# Importing necessary libraries\n",
        "import numpy as np\n",
        "import pandas as pd\n",
        "import matplotlib.pyplot as plt\n",
        "import seaborn as sns\n",
        "from sklearn.model_selection import train_test_split\n",
        "from sklearn.preprocessing import LabelEncoder\n",
        "from sklearn.linear_model import LogisticRegression\n",
        "from sklearn.tree import DecisionTreeClassifier\n",
        "from sklearn.metrics import accuracy_score, classification_report\n",
        "from sklearn.svm import SVC\n",
        "import warnings"
      ],
      "metadata": {
        "id": "733OwujjfArO"
      },
      "execution_count": 1,
      "outputs": []
    },
    {
      "cell_type": "code",
      "source": [
        "# Suppressing warnings\n",
        "warnings.filterwarnings('ignore')"
      ],
      "metadata": {
        "id": "ItLnDAntdZ8i"
      },
      "execution_count": 2,
      "outputs": []
    },
    {
      "cell_type": "code",
      "source": [
        "# Importing the dataset\n",
        "df = pd.read_csv('heart_failure_clinical_records.csv')"
      ],
      "metadata": {
        "id": "ERwdfAxFddrC"
      },
      "execution_count": 3,
      "outputs": []
    },
    {
      "cell_type": "code",
      "source": [
        "# Displaying the first few rows of the DataFrame\n",
        "print(\"First few rows of the DataFrame:\")\n",
        "print(df.head())"
      ],
      "metadata": {
        "colab": {
          "base_uri": "https://localhost:8080/"
        },
        "id": "MlU-T6n6dxAi",
        "outputId": "39ef8e80-4a30-4f1e-e1bb-ec0a797760cd"
      },
      "execution_count": 4,
      "outputs": [
        {
          "output_type": "stream",
          "name": "stdout",
          "text": [
            "First few rows of the DataFrame:\n",
            "    age  anaemia  creatinine_phosphokinase  diabetes  ejection_fraction  \\\n",
            "0  55.0        0                       748         0                 45   \n",
            "1  65.0        0                        56         0                 25   \n",
            "2  45.0        0                       582         1                 38   \n",
            "3  60.0        1                       754         1                 40   \n",
            "4  95.0        1                       582         0                 30   \n",
            "\n",
            "   high_blood_pressure  platelets  serum_creatinine  serum_sodium  sex  \\\n",
            "0                    0  263358.03               1.3           137    1   \n",
            "1                    0  305000.00               5.0           130    1   \n",
            "2                    0  319000.00               0.9           140    0   \n",
            "3                    1  328000.00               1.2           126    1   \n",
            "4                    0  461000.00               2.0           132    1   \n",
            "\n",
            "   smoking  time  DEATH_EVENT  \n",
            "0        1    88            0  \n",
            "1        0   207            0  \n",
            "2        0   244            0  \n",
            "3        0    90            0  \n",
            "4        0    50            1  \n"
          ]
        }
      ]
    },
    {
      "cell_type": "code",
      "source": [
        "# Displaying the last few rows of the DataFrame\n",
        "print(\"\\nLast few rows of the DataFrame:\")\n",
        "print(df.tail())"
      ],
      "metadata": {
        "colab": {
          "base_uri": "https://localhost:8080/"
        },
        "id": "BPZ3kdVzd2J0",
        "outputId": "321e977b-2196-4276-8928-dc2476f71b48"
      },
      "execution_count": 5,
      "outputs": [
        {
          "output_type": "stream",
          "name": "stdout",
          "text": [
            "\n",
            "Last few rows of the DataFrame:\n",
            "       age  anaemia  creatinine_phosphokinase  diabetes  ejection_fraction  \\\n",
            "4995  45.0        0                       582         1                 55   \n",
            "4996  60.0        1                       582         0                 30   \n",
            "4997  95.0        1                       112         0                 40   \n",
            "4998  65.0        1                       160         1                 20   \n",
            "4999  40.0        0                       244         0                 45   \n",
            "\n",
            "      high_blood_pressure  platelets  serum_creatinine  serum_sodium  sex  \\\n",
            "4995                    0   543000.0               1.0           132    0   \n",
            "4996                    1   127000.0               0.9           145    0   \n",
            "4997                    1   196000.0               1.0           138    0   \n",
            "4998                    0   327000.0               2.7           116    0   \n",
            "4999                    1   275000.0               0.9           140    0   \n",
            "\n",
            "      smoking  time  DEATH_EVENT  \n",
            "4995        0   250            0  \n",
            "4996        0    95            0  \n",
            "4997        0    24            1  \n",
            "4998        0     8            1  \n",
            "4999        0   174            0  \n"
          ]
        }
      ]
    },
    {
      "cell_type": "code",
      "source": [
        "# Displaying the shape of the DataFrame\n",
        "print(\"\\nShape of the DataFrame:\")\n",
        "print(df.shape)"
      ],
      "metadata": {
        "colab": {
          "base_uri": "https://localhost:8080/"
        },
        "id": "n4HOx7FGd17W",
        "outputId": "a7b5d278-6ec1-4b97-f6cb-e6f397cfd25a"
      },
      "execution_count": 6,
      "outputs": [
        {
          "output_type": "stream",
          "name": "stdout",
          "text": [
            "\n",
            "Shape of the DataFrame:\n",
            "(5000, 13)\n"
          ]
        }
      ]
    },
    {
      "cell_type": "code",
      "source": [
        "# Displaying the columns of the DataFrame\n",
        "print(\"\\nColumns of the DataFrame:\")\n",
        "print(df.columns)"
      ],
      "metadata": {
        "colab": {
          "base_uri": "https://localhost:8080/"
        },
        "id": "HBkhMobJd1sn",
        "outputId": "fe8c47c1-6d2e-4e06-c2bb-b850416cd83f"
      },
      "execution_count": 7,
      "outputs": [
        {
          "output_type": "stream",
          "name": "stdout",
          "text": [
            "\n",
            "Columns of the DataFrame:\n",
            "Index(['age', 'anaemia', 'creatinine_phosphokinase', 'diabetes',\n",
            "       'ejection_fraction', 'high_blood_pressure', 'platelets',\n",
            "       'serum_creatinine', 'serum_sodium', 'sex', 'smoking', 'time',\n",
            "       'DEATH_EVENT'],\n",
            "      dtype='object')\n"
          ]
        }
      ]
    },
    {
      "cell_type": "code",
      "source": [
        "# Checking for duplicate rows in the DataFrame\n",
        "print(\"\\nNumber of duplicated rows in the DataFrame:\")\n",
        "print(df.duplicated().sum())"
      ],
      "metadata": {
        "colab": {
          "base_uri": "https://localhost:8080/"
        },
        "id": "rN4qfi3wd1a_",
        "outputId": "55c719e7-3730-4e31-c6b9-cb2a99a5a9a1"
      },
      "execution_count": 8,
      "outputs": [
        {
          "output_type": "stream",
          "name": "stdout",
          "text": [
            "\n",
            "Number of duplicated rows in the DataFrame:\n",
            "3680\n"
          ]
        }
      ]
    },
    {
      "cell_type": "code",
      "source": [
        "# Dropping duplicates if any\n",
        "df = df.drop_duplicates()"
      ],
      "metadata": {
        "id": "r6OgN3bmd09B"
      },
      "execution_count": 9,
      "outputs": []
    },
    {
      "cell_type": "code",
      "source": [
        "duplicates = df[df.duplicated()]\n",
        "print(\"Duplicate rows:\")\n",
        "print(duplicates)\n"
      ],
      "metadata": {
        "colab": {
          "base_uri": "https://localhost:8080/"
        },
        "id": "8nho6H2BOOlH",
        "outputId": "05d8a56a-0662-45fa-c6cf-83d8782d26f5"
      },
      "execution_count": 10,
      "outputs": [
        {
          "output_type": "stream",
          "name": "stdout",
          "text": [
            "Duplicate rows:\n",
            "Empty DataFrame\n",
            "Columns: [age, anaemia, creatinine_phosphokinase, diabetes, ejection_fraction, high_blood_pressure, platelets, serum_creatinine, serum_sodium, sex, smoking, time, DEATH_EVENT]\n",
            "Index: []\n"
          ]
        }
      ]
    },
    {
      "cell_type": "code",
      "source": [
        "# Handling missing values if any\n",
        "# (This step is not included as the provided data snippet does not contain missing values)\n",
        "\n",
        "# Checking for missing values\n",
        "print(\"\\nMissing values in the DataFrame:\")\n",
        "print(df.isnull().sum())"
      ],
      "metadata": {
        "colab": {
          "base_uri": "https://localhost:8080/"
        },
        "id": "pvMV-fmheO5W",
        "outputId": "f045ec18-7919-4950-f6b5-5bbd5ad30ae2"
      },
      "execution_count": 11,
      "outputs": [
        {
          "output_type": "stream",
          "name": "stdout",
          "text": [
            "\n",
            "Missing values in the DataFrame:\n",
            "age                         0\n",
            "anaemia                     0\n",
            "creatinine_phosphokinase    0\n",
            "diabetes                    0\n",
            "ejection_fraction           0\n",
            "high_blood_pressure         0\n",
            "platelets                   0\n",
            "serum_creatinine            0\n",
            "serum_sodium                0\n",
            "sex                         0\n",
            "smoking                     0\n",
            "time                        0\n",
            "DEATH_EVENT                 0\n",
            "dtype: int64\n"
          ]
        }
      ]
    },
    {
      "cell_type": "code",
      "source": [
        "# Information about the DataFrame\n",
        "print(\"\\nInformation about the DataFrame:\")\n",
        "print(df.info())"
      ],
      "metadata": {
        "colab": {
          "base_uri": "https://localhost:8080/"
        },
        "id": "kAKm_5bQeOyD",
        "outputId": "0d9c6d01-7f78-41fb-ce89-ff1e73f29235"
      },
      "execution_count": 12,
      "outputs": [
        {
          "output_type": "stream",
          "name": "stdout",
          "text": [
            "\n",
            "Information about the DataFrame:\n",
            "<class 'pandas.core.frame.DataFrame'>\n",
            "Index: 1320 entries, 0 to 4972\n",
            "Data columns (total 13 columns):\n",
            " #   Column                    Non-Null Count  Dtype  \n",
            "---  ------                    --------------  -----  \n",
            " 0   age                       1320 non-null   float64\n",
            " 1   anaemia                   1320 non-null   int64  \n",
            " 2   creatinine_phosphokinase  1320 non-null   int64  \n",
            " 3   diabetes                  1320 non-null   int64  \n",
            " 4   ejection_fraction         1320 non-null   int64  \n",
            " 5   high_blood_pressure       1320 non-null   int64  \n",
            " 6   platelets                 1320 non-null   float64\n",
            " 7   serum_creatinine          1320 non-null   float64\n",
            " 8   serum_sodium              1320 non-null   int64  \n",
            " 9   sex                       1320 non-null   int64  \n",
            " 10  smoking                   1320 non-null   int64  \n",
            " 11  time                      1320 non-null   int64  \n",
            " 12  DEATH_EVENT               1320 non-null   int64  \n",
            "dtypes: float64(3), int64(10)\n",
            "memory usage: 144.4 KB\n",
            "None\n"
          ]
        }
      ]
    },
    {
      "cell_type": "code",
      "source": [
        "# Summary statistics of the DataFrame\n",
        "print(\"\\nSummary statistics of the DataFrame:\")\n",
        "print(df.describe())"
      ],
      "metadata": {
        "colab": {
          "base_uri": "https://localhost:8080/"
        },
        "id": "IIEIpkxveOqF",
        "outputId": "7ebb39a5-1da5-45aa-877d-125b050a7eaa"
      },
      "execution_count": 13,
      "outputs": [
        {
          "output_type": "stream",
          "name": "stdout",
          "text": [
            "\n",
            "Summary statistics of the DataFrame:\n",
            "               age      anaemia  creatinine_phosphokinase     diabetes  \\\n",
            "count  1320.000000  1320.000000               1320.000000  1320.000000   \n",
            "mean     60.587377     0.485606                576.135606     0.446970   \n",
            "std      11.913538     0.499982                970.630878     0.497368   \n",
            "min      40.000000     0.000000                 23.000000     0.000000   \n",
            "25%      50.000000     0.000000                115.000000     0.000000   \n",
            "50%      60.000000     0.000000                249.000000     0.000000   \n",
            "75%      69.000000     1.000000                582.000000     1.000000   \n",
            "max      95.000000     1.000000               7861.000000     1.000000   \n",
            "\n",
            "       ejection_fraction  high_blood_pressure      platelets  \\\n",
            "count        1320.000000          1320.000000    1320.000000   \n",
            "mean           37.881818             0.369697  263751.982189   \n",
            "std            11.572547             0.482906  106345.010143   \n",
            "min            14.000000             0.000000   25100.000000   \n",
            "25%            30.000000             0.000000  208000.000000   \n",
            "50%            38.000000             0.000000  263358.030000   \n",
            "75%            45.000000             1.000000  310000.000000   \n",
            "max            80.000000             1.000000  850000.000000   \n",
            "\n",
            "       serum_creatinine  serum_sodium          sex      smoking         time  \\\n",
            "count       1320.000000   1320.000000  1320.000000  1320.000000  1320.000000   \n",
            "mean           1.356447    136.665909     0.645455     0.307576   132.678788   \n",
            "std            0.998924      4.380990     0.478557     0.461665    77.779493   \n",
            "min            0.500000    113.000000     0.000000     0.000000     4.000000   \n",
            "25%            0.900000    134.000000     0.000000     0.000000    74.000000   \n",
            "50%            1.100000    137.000000     1.000000     0.000000   119.500000   \n",
            "75%            1.300000    140.000000     1.000000     1.000000   206.000000   \n",
            "max            9.400000    148.000000     1.000000     1.000000   285.000000   \n",
            "\n",
            "       DEATH_EVENT  \n",
            "count  1320.000000  \n",
            "mean      0.300758  \n",
            "std       0.458761  \n",
            "min       0.000000  \n",
            "25%       0.000000  \n",
            "50%       0.000000  \n",
            "75%       1.000000  \n",
            "max       1.000000  \n"
          ]
        }
      ]
    },
    {
      "cell_type": "code",
      "source": [
        "# Encoding the target variable\n",
        "label_encoder = LabelEncoder()\n",
        "df['DEATH_EVENT'] = label_encoder.fit_transform(df['DEATH_EVENT'])"
      ],
      "metadata": {
        "id": "U3spwO-_eOei"
      },
      "execution_count": 14,
      "outputs": []
    },
    {
      "cell_type": "code",
      "source": [
        "# Print DataFrame after LabelEncoder\n",
        "print(\"\\nDataFrame after LabelEncoder:\")\n",
        "print(df.head())"
      ],
      "metadata": {
        "colab": {
          "base_uri": "https://localhost:8080/"
        },
        "id": "F3F7TOEzncd7",
        "outputId": "a4265691-cfe8-4ee8-ee0e-c7e40518450c"
      },
      "execution_count": 15,
      "outputs": [
        {
          "output_type": "stream",
          "name": "stdout",
          "text": [
            "\n",
            "DataFrame after LabelEncoder:\n",
            "    age  anaemia  creatinine_phosphokinase  diabetes  ejection_fraction  \\\n",
            "0  55.0        0                       748         0                 45   \n",
            "1  65.0        0                        56         0                 25   \n",
            "2  45.0        0                       582         1                 38   \n",
            "3  60.0        1                       754         1                 40   \n",
            "4  95.0        1                       582         0                 30   \n",
            "\n",
            "   high_blood_pressure  platelets  serum_creatinine  serum_sodium  sex  \\\n",
            "0                    0  263358.03               1.3           137    1   \n",
            "1                    0  305000.00               5.0           130    1   \n",
            "2                    0  319000.00               0.9           140    0   \n",
            "3                    1  328000.00               1.2           126    1   \n",
            "4                    0  461000.00               2.0           132    1   \n",
            "\n",
            "   smoking  time  DEATH_EVENT  \n",
            "0        1    88            0  \n",
            "1        0   207            0  \n",
            "2        0   244            0  \n",
            "3        0    90            0  \n",
            "4        0    50            1  \n"
          ]
        }
      ]
    },
    {
      "cell_type": "code",
      "source": [
        "# Print DataFrame after LabelEncoder\n",
        "print(\"\\nDataFrame after LabelEncoder:\")\n",
        "print(df.tail())"
      ],
      "metadata": {
        "id": "NeMonRDBniiy",
        "outputId": "0ba09912-8506-4667-a9ca-bc15369a293f",
        "colab": {
          "base_uri": "https://localhost:8080/"
        }
      },
      "execution_count": 16,
      "outputs": [
        {
          "output_type": "stream",
          "name": "stdout",
          "text": [
            "\n",
            "DataFrame after LabelEncoder:\n",
            "       age  anaemia  creatinine_phosphokinase  diabetes  ejection_fraction  \\\n",
            "4731  75.0        0                       582         1                 30   \n",
            "4855  73.0        0                       582         0                 20   \n",
            "4862  45.0        0                       220         0                 35   \n",
            "4965  40.0        1                       129         1                 35   \n",
            "4972  70.0        0                       835         0                 35   \n",
            "\n",
            "      high_blood_pressure  platelets  serum_creatinine  serum_sodium  sex  \\\n",
            "4731                    1  263358.03              1.83           134    1   \n",
            "4855                    0  263358.03              1.83           134    1   \n",
            "4862                    0  174000.00              0.80           139    1   \n",
            "4965                    0  255000.00              0.90           137    1   \n",
            "4972                    0  327000.00              1.10           142    0   \n",
            "\n",
            "      smoking  time  DEATH_EVENT  \n",
            "4731        0    23            1  \n",
            "4855        1   198            1  \n",
            "4862        1   121            0  \n",
            "4965        0   209            0  \n",
            "4972        0   245            0  \n"
          ]
        }
      ]
    },
    {
      "cell_type": "code",
      "source": [
        "# Displaying the encoded 'DEATH_EVENT' data\n",
        "print(\"\\nEncoded 'DEATH_EVENT' data:\")\n",
        "print(df['DEATH_EVENT'])"
      ],
      "metadata": {
        "colab": {
          "base_uri": "https://localhost:8080/"
        },
        "id": "4RC6L1sEnRUV",
        "outputId": "3c1f994d-9b9d-4cf9-eafb-f31be532fca1"
      },
      "execution_count": 17,
      "outputs": [
        {
          "output_type": "stream",
          "name": "stdout",
          "text": [
            "\n",
            "Encoded 'DEATH_EVENT' data:\n",
            "0       0\n",
            "1       0\n",
            "2       0\n",
            "3       0\n",
            "4       1\n",
            "       ..\n",
            "4731    1\n",
            "4855    1\n",
            "4862    0\n",
            "4965    0\n",
            "4972    0\n",
            "Name: DEATH_EVENT, Length: 1320, dtype: int64\n"
          ]
        }
      ]
    },
    {
      "cell_type": "code",
      "source": [
        "# Splitting the dataset into train and test sets\n",
        "X = df.drop('DEATH_EVENT', axis=1)\n",
        "y = df['DEATH_EVENT']\n",
        "X_train, X_test, y_train, y_test = train_test_split(X, y, test_size=0.2, stratify=y, random_state=42)"
      ],
      "metadata": {
        "id": "3h6IWWMQeeuI"
      },
      "execution_count": 18,
      "outputs": []
    },
    {
      "cell_type": "code",
      "source": [
        "print(\"X_train:\")\n",
        "print(X_train)\n",
        "print(\"\\nX_test:\")\n",
        "print(X_test)\n",
        "print(\"\\ny_train:\")\n",
        "print(y_train)\n",
        "print(\"\\ny_test:\")\n",
        "print(y_test)\n"
      ],
      "metadata": {
        "colab": {
          "base_uri": "https://localhost:8080/"
        },
        "id": "SoN8d5iWOazB",
        "outputId": "d279fb9a-1c88-4c64-b11e-40d0813b5441"
      },
      "execution_count": 19,
      "outputs": [
        {
          "output_type": "stream",
          "name": "stdout",
          "text": [
            "X_train:\n",
            "       age  anaemia  creatinine_phosphokinase  diabetes  ejection_fraction  \\\n",
            "337   50.0        1                      1061         1                 30   \n",
            "493   52.0        1                       191         1                 30   \n",
            "315   69.0        0                       748         0                 40   \n",
            "1025  50.0        0                       185         0                 30   \n",
            "1245  72.0        1                       100         0                 30   \n",
            "...    ...      ...                       ...       ...                ...   \n",
            "166   70.0        1                        86         1                 35   \n",
            "3708  60.0        1                       257         1                 30   \n",
            "1673  40.0        0                       244         0                 45   \n",
            "616   65.0        1                       720         0                 40   \n",
            "803   70.0        0                        69         0                 40   \n",
            "\n",
            "      high_blood_pressure  platelets  serum_creatinine  serum_sodium  sex  \\\n",
            "337                     0  232000.00               0.7           136    0   \n",
            "493                     1  305000.00               1.0           137    1   \n",
            "315                     0  105000.00               1.0           135    1   \n",
            "1025                    0  263358.03               0.7           141    0   \n",
            "1245                    1  621000.00               1.7           138    0   \n",
            "...                   ...        ...               ...           ...  ...   \n",
            "166                     1  236000.00               1.2           132    0   \n",
            "3708                    0  302000.00               1.0           137    0   \n",
            "1673                    1  275000.00               0.9           140    0   \n",
            "616                     0  105000.00               1.2           135    1   \n",
            "803                     0   29300.00               1.7           136    0   \n",
            "\n",
            "      smoking  time  \n",
            "337         0   246  \n",
            "493         0   216  \n",
            "315         1   147  \n",
            "1025        0   112  \n",
            "1245        1    88  \n",
            "...       ...   ...  \n",
            "166         0   215  \n",
            "3708        0   245  \n",
            "1673        0   174  \n",
            "616         1   210  \n",
            "803         0    75  \n",
            "\n",
            "[1056 rows x 12 columns]\n",
            "\n",
            "X_test:\n",
            "       age  anaemia  creatinine_phosphokinase  diabetes  ejection_fraction  \\\n",
            "1437  50.0        0                       124         1                 30   \n",
            "824   60.0        1                       257         0                 25   \n",
            "159   55.0        1                       180         0                 25   \n",
            "178   50.0        0                       154         0                 40   \n",
            "245   61.0        0                      1380         0                 30   \n",
            "...    ...      ...                       ...       ...                ...   \n",
            "1965  50.0        0                      1548         0                 30   \n",
            "562   42.0        0                       102         0                 25   \n",
            "917   65.0        0                       167         0                 30   \n",
            "71    66.0        1                        68         1                 38   \n",
            "1590  53.0        0                       196         0                 60   \n",
            "\n",
            "      high_blood_pressure  platelets  serum_creatinine  serum_sodium  sex  \\\n",
            "1437                    1   153000.0               1.2           136    0   \n",
            "824                     0   274000.0               1.2           134    0   \n",
            "159                     0   130000.0               0.8           134    1   \n",
            "178                     1   229000.0               2.3           131    0   \n",
            "245                     1   267000.0               0.7           136    1   \n",
            "...                   ...        ...               ...           ...  ...   \n",
            "1965                    1   211000.0               0.8           138    1   \n",
            "562                     0   237000.0               1.2           134    0   \n",
            "917                     0   203000.0               0.8           138    1   \n",
            "71                      1    25100.0               1.0           136    1   \n",
            "1590                    0   220000.0               0.7           133    1   \n",
            "\n",
            "      smoking  time  \n",
            "1437        1    32  \n",
            "824         0   245  \n",
            "159         0   211  \n",
            "178         0    60  \n",
            "245         1   104  \n",
            "...       ...   ...  \n",
            "1965        0   108  \n",
            "562         0    74  \n",
            "917         0   186  \n",
            "71          0    95  \n",
            "1590        1   134  \n",
            "\n",
            "[264 rows x 12 columns]\n",
            "\n",
            "y_train:\n",
            "337     0\n",
            "493     0\n",
            "315     0\n",
            "1025    0\n",
            "1245    1\n",
            "       ..\n",
            "166     0\n",
            "3708    0\n",
            "1673    0\n",
            "616     0\n",
            "803     0\n",
            "Name: DEATH_EVENT, Length: 1056, dtype: int64\n",
            "\n",
            "y_test:\n",
            "1437    1\n",
            "824     0\n",
            "159     0\n",
            "178     1\n",
            "245     0\n",
            "       ..\n",
            "1965    0\n",
            "562     0\n",
            "917     0\n",
            "71      0\n",
            "1590    0\n",
            "Name: DEATH_EVENT, Length: 264, dtype: int64\n"
          ]
        }
      ]
    },
    {
      "cell_type": "code",
      "source": [
        "# Training and evaluating a Logistic Regression model\n",
        "log_reg_model = LogisticRegression()\n",
        "log_reg_model.fit(X_train, y_train)\n",
        "y_pred_log_reg = log_reg_model.predict(X_test)"
      ],
      "metadata": {
        "id": "5AXx45Qmeekn"
      },
      "execution_count": 20,
      "outputs": []
    },
    {
      "cell_type": "code",
      "source": [
        "# Training and evaluating a Decision Tree Classifier\n",
        "dt_model = DecisionTreeClassifier()\n",
        "dt_model.fit(X_train, y_train)\n",
        "y_pred_dt = dt_model.predict(X_test)"
      ],
      "metadata": {
        "id": "J-r6IecQeebc"
      },
      "execution_count": 21,
      "outputs": []
    },
    {
      "cell_type": "code",
      "source": [
        "# Training and evaluating a Support Vector Classifier\n",
        "sv_model = SVC()\n",
        "sv_model.fit(X_train, y_train)\n",
        "y_pred_sv = sv_model.predict(X_test)"
      ],
      "metadata": {
        "id": "mSn10pS3eeLF"
      },
      "execution_count": 22,
      "outputs": []
    },
    {
      "cell_type": "code",
      "source": [
        "# Evaluating Logistic Regression model\n",
        "accuracy_log_reg = accuracy_score(y_test, y_pred_log_reg)\n",
        "report_log_reg = classification_report(y_test, y_pred_log_reg)\n",
        "print(\"\\nLogistic Regression Classifier Results:\")\n",
        "print(f\"Accuracy: {accuracy_log_reg}\")\n",
        "print(f\"Classification Report:\\n{report_log_reg}\")"
      ],
      "metadata": {
        "colab": {
          "base_uri": "https://localhost:8080/"
        },
        "id": "5AvIi3qjeuvC",
        "outputId": "b69528fa-2433-4566-ee6a-9d9c7b536405"
      },
      "execution_count": 23,
      "outputs": [
        {
          "output_type": "stream",
          "name": "stdout",
          "text": [
            "\n",
            "Logistic Regression Classifier Results:\n",
            "Accuracy: 0.8143939393939394\n",
            "Classification Report:\n",
            "              precision    recall  f1-score   support\n",
            "\n",
            "           0       0.84      0.91      0.87       185\n",
            "           1       0.73      0.59      0.66        79\n",
            "\n",
            "    accuracy                           0.81       264\n",
            "   macro avg       0.79      0.75      0.77       264\n",
            "weighted avg       0.81      0.81      0.81       264\n",
            "\n"
          ]
        }
      ]
    },
    {
      "cell_type": "code",
      "source": [
        "# Evaluating Decision Tree Classifier\n",
        "accuracy_dt = accuracy_score(y_test, y_pred_dt)\n",
        "report_dt = classification_report(y_test, y_pred_dt)\n",
        "print(\"\\nDecision Tree Classifier Results:\")\n",
        "print(f\"Accuracy: {accuracy_dt}\")\n",
        "print(f\"Classification Report:\\n{report_dt}\")"
      ],
      "metadata": {
        "colab": {
          "base_uri": "https://localhost:8080/"
        },
        "id": "e85rc6dPeuql",
        "outputId": "20d1f71d-e978-4075-ca64-1a99b5990cee"
      },
      "execution_count": 24,
      "outputs": [
        {
          "output_type": "stream",
          "name": "stdout",
          "text": [
            "\n",
            "Decision Tree Classifier Results:\n",
            "Accuracy: 0.9242424242424242\n",
            "Classification Report:\n",
            "              precision    recall  f1-score   support\n",
            "\n",
            "           0       0.93      0.96      0.95       185\n",
            "           1       0.90      0.84      0.87        79\n",
            "\n",
            "    accuracy                           0.92       264\n",
            "   macro avg       0.92      0.90      0.91       264\n",
            "weighted avg       0.92      0.92      0.92       264\n",
            "\n"
          ]
        }
      ]
    },
    {
      "cell_type": "code",
      "source": [
        "# Evaluating Support Vector Classifier\n",
        "accuracy_sv = accuracy_score(y_test, y_pred_sv)\n",
        "report_sv = classification_report(y_test, y_pred_sv)\n",
        "print(\"\\nSupport Vector Classifier Results:\")\n",
        "print(f\"Accuracy: {accuracy_sv}\")\n",
        "print(f\"Classification Report:\\n{report_sv}\")"
      ],
      "metadata": {
        "colab": {
          "base_uri": "https://localhost:8080/"
        },
        "id": "cUg8qUf2eule",
        "outputId": "fadb7c65-9690-42c6-f556-cc89fb176530"
      },
      "execution_count": 25,
      "outputs": [
        {
          "output_type": "stream",
          "name": "stdout",
          "text": [
            "\n",
            "Support Vector Classifier Results:\n",
            "Accuracy: 0.7007575757575758\n",
            "Classification Report:\n",
            "              precision    recall  f1-score   support\n",
            "\n",
            "           0       0.70      1.00      0.82       185\n",
            "           1       0.00      0.00      0.00        79\n",
            "\n",
            "    accuracy                           0.70       264\n",
            "   macro avg       0.35      0.50      0.41       264\n",
            "weighted avg       0.49      0.70      0.58       264\n",
            "\n"
          ]
        }
      ]
    }
  ]
}