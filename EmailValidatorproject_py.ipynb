{
  "nbformat": 4,
  "nbformat_minor": 0,
  "metadata": {
    "colab": {
      "provenance": [],
      "authorship_tag": "ABX9TyPgIl0X1IRL8P4FXJuCKxz4",
      "include_colab_link": true
    },
    "kernelspec": {
      "name": "python3",
      "display_name": "Python 3"
    },
    "language_info": {
      "name": "python"
    }
  },
  "cells": [
    {
      "cell_type": "markdown",
      "metadata": {
        "id": "view-in-github",
        "colab_type": "text"
      },
      "source": [
        "<a href=\"https://colab.research.google.com/github/NikhilMamilla/NikhilMamilla/blob/main/EmailValidatorproject_py.ipynb\" target=\"_parent\"><img src=\"https://colab.research.google.com/assets/colab-badge.svg\" alt=\"Open In Colab\"/></a>"
      ]
    },
    {
      "cell_type": "markdown",
      "source": [
        "***EMAIL VALIDATOR***\n"
      ],
      "metadata": {
        "id": "MyhEOH57ersf"
      }
    },
    {
      "cell_type": "code",
      "source": [
        "import re\n",
        "\n",
        "def validate_local_part(local_part):\n",
        "    # Regular expression for local part validation\n",
        "    local_part_regex = re.compile(r'^[a-zA-Z0-9._%+-]+')\n",
        "    return bool(local_part_regex.match(local_part))\n",
        "\n",
        "def validate_domain_part(domain_part):\n",
        "    # Regular expression for domain part validation\n",
        "    domain_part_regex = re.compile(r'^[a-zA-Z0-9.-]+\\.[a-zA-Z]{2,}$')\n",
        "    return bool(domain_part_regex.match(domain_part))\n",
        "\n",
        "def validate_email(email):\n",
        "    # Split email into local part and domain part\n",
        "    local_part, domain_part = email.split('@',1)\n",
        "\n",
        "    # Validate local part and domain part\n",
        "    is_local_valid = validate_local_part(local_part)\n",
        "    is_domain_valid = validate_domain_part(domain_part)\n",
        "\n",
        "    return is_local_valid and is_domain_valid\n",
        "\n",
        "def interactive_mode():\n",
        "    while True:\n",
        "        email = input(\"Enter an email address (or 'exit' to end): \")\n",
        "        if email.lower() == 'exit':\n",
        "            break\n",
        "        if validate_email(email):\n",
        "            print(\"Valid email address.\")\n",
        "        else:\n",
        "            print(\"Invalid email address. Please try again.\")\n",
        "\n",
        "if __name__ == \"__main__\":\n",
        "    interactive_mode()\n"
      ],
      "metadata": {
        "id": "YN6Y1LLHe1nP",
        "colab": {
          "base_uri": "https://localhost:8080/"
        },
        "outputId": "ef9a9156-a7db-4c05-b356-120e8c4abf58"
      },
      "execution_count": 5,
      "outputs": [
        {
          "name": "stdout",
          "output_type": "stream",
          "text": [
            "Enter an email address (or 'exit' to end): nikhil@gmail.com\n",
            "Valid email address.\n",
            "Enter an email address (or 'exit' to end): nikhil@\n",
            "Invalid email address. Please try again.\n",
            "Enter an email address (or 'exit' to end): nikhil@gmail\n",
            "Invalid email address. Please try again.\n",
            "Enter an email address (or 'exit' to end): nikhil@gmail.\n",
            "Invalid email address. Please try again.\n",
            "Enter an email address (or 'exit' to end): nikhil@gmail.con\n",
            "Valid email address.\n",
            "Enter an email address (or 'exit' to end): exit\n"
          ]
        }
      ]
    }
  ]
}